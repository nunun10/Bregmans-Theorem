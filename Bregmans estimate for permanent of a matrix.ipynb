{
 "cells": [
  {
   "cell_type": "code",
   "execution_count": null,
   "metadata": {},
   "outputs": [],
   "source": [
    "import math\n",
    "\n",
    "def splitlist(mylist, chunk_size):\n",
    "    return [mylist[offs:offs+chunk_size] for offs in range(0, len(mylist), chunk_size)]\n",
    "\n",
    "\n",
    "r=[]\n",
    "row = []\n",
    "power=0\n",
    "count=0\n",
    "breggy=1\n",
    "fact=0\n",
    "p=0\n",
    "\n",
    "\n",
    "n= int(input(\"Enter the order 'n' of the 0-1 matrix A: \"))\n",
    "print()\n",
    "\n",
    "print('Enter the elements of the matrix, row-wise:')\n",
    "while p<n*n:                                                      #p keeps a count for no. of times the loop should run\n",
    "    for i in range(0,n):\n",
    "        row.append(int(input()) )                                 #adds inputted elements to the row list\n",
    "        some=sum(row)\n",
    "        p=p+1\n",
    "    c=splitlist(row,n)                                            #splits the list into sublists/rows of size n\n",
    "print()\n",
    "\n",
    "print('The matrix A is:')\n",
    "for i in range(0,n):\n",
    "    print(c[i])                                                   #prints all the sublists/rows which gives us the matrix\n",
    "print()\n",
    "\n",
    "for i in range(0,n):\n",
    "    count=count+1\n",
    "    some=sum(c[i])                                                #prints sum of row elements\n",
    "    r.append(some)                                                #adds the row sums to another list\n",
    "    print('The sum of row ',count,' is : ',some)\n",
    "print()\n",
    "\n",
    "for i in range(0,n):\n",
    "    if r[i]>0:                                                    #checks for non-zero rows\n",
    "        fact=math.factorial(r[i])\n",
    "        rec=1/r[i]\n",
    "        power=math.pow(fact,rec)\n",
    "        breggy=breggy*power\n",
    "    else:                                                         #checks for zero rows\n",
    "        continue\n",
    "print()\n",
    "\n",
    "\n",
    "print('The Bregman estimate for permanent of the matrix A is: ',breggy)"
   ]
  },
  {
   "cell_type": "code",
   "execution_count": null,
   "metadata": {},
   "outputs": [],
   "source": []
  },
  {
   "cell_type": "code",
   "execution_count": null,
   "metadata": {},
   "outputs": [],
   "source": []
  },
  {
   "cell_type": "code",
   "execution_count": null,
   "metadata": {},
   "outputs": [],
   "source": []
  }
 ],
 "metadata": {
  "kernelspec": {
   "display_name": "Python 3",
   "language": "python",
   "name": "python3"
  },
  "language_info": {
   "codemirror_mode": {
    "name": "ipython",
    "version": 3
   },
   "file_extension": ".py",
   "mimetype": "text/x-python",
   "name": "python",
   "nbconvert_exporter": "python",
   "pygments_lexer": "ipython3",
   "version": "3.7.6"
  }
 },
 "nbformat": 4,
 "nbformat_minor": 4
}
